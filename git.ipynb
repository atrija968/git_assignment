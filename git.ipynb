{
  "nbformat": 4,
  "nbformat_minor": 0,
  "metadata": {
    "colab": {
      "provenance": []
    },
    "kernelspec": {
      "name": "python3",
      "display_name": "Python 3"
    },
    "language_info": {
      "name": "python"
    }
  },
  "cells": [
    {
      "cell_type": "markdown",
      "source": [],
      "metadata": {
        "id": "lnGw2Exnp0Fp"
      }
    },
    {
      "cell_type": "markdown",
      "source": [
        "#Git Assignment"
      ],
      "metadata": {
        "id": "qWjWRQ_Ep19O"
      }
    },
    {
      "cell_type": "markdown",
      "source": [
        "1- Based on what you have learnt in the class, do the following steps:\n",
        "        \n",
        "        a. Create a new folder\n",
        "        b. Put the following files in the folder\n",
        "            Code.txt\n",
        "            Log.txt\n",
        "            Output.txt\n",
        "        c. Stage the Code.txt and Output.txt files\n",
        "        d. Commit them\n",
        "        e. And finally push them to GitHub\n"
      ],
      "metadata": {
        "id": "IuvAWL87qL4h"
      }
    },
    {
      "cell_type": "code",
      "source": [
        "# a\n",
        "mkdir my_project\n",
        "cd my_project\n",
        "# b\n",
        "touch Code.txt Log.txt Output.txt\n",
        "git init\n",
        "# c\n",
        "git add Code.txt Output.txt\n",
        "# d\n",
        "git commit -m \"Initial commit with Code.txt and Output.txt\"\n",
        "# e\n",
        "git remote add origin https://github.com/atrija968/git_test.git\n",
        "git branch -M main\n",
        "git push -u origin main\n"
      ],
      "metadata": {
        "id": "5UBztSYEqxkX"
      },
      "execution_count": 1,
      "outputs": []
    },
    {
      "cell_type": "markdown",
      "source": [
        "2- Tasks to Be Performed:\n",
        "\n",
        "\n",
        "1. Create a Git working directory with feature1.txt and feature2.txt in the master branch\n",
        "\n",
        "2. Create 3 branches develop, feature1 and feature2\n",
        "\n",
        "3. In develop branch create develop.txt, do not stage or commit it\n",
        "\n",
        "4. Stash this file and check out to feature1 branch\n",
        "\n",
        "5. Create new.txt file in feature1 branch, stage and commit this file\n",
        "\n",
        "6. Checkout to develop, unstash this file and commit\n",
        "\n",
        "7. Please submit all the Git commands used to do the above steps\n"
      ],
      "metadata": {
        "id": "Mnxf0vI_tSV-"
      }
    },
    {
      "cell_type": "code",
      "source": [
        "# 1\n",
        "mkdir feature_branch_work\n",
        "cd feature_branch_work\n",
        "git init\n",
        "touch feature1.txt feature2.txt\n",
        "git add .\n",
        "git commit -m \"Add feature1.txt and feature2.txt\"\n",
        "\n",
        "# 2\n",
        "git branch develop\n",
        "git branch feature1\n",
        "git branch feature2\n",
        "\n",
        "# 3\n",
        "git checkout develop\n",
        "touch develop.txt\n",
        "\n",
        "# 4\n",
        "git stash\n",
        "git checkout feature1\n",
        "\n",
        "# 5\n",
        "touch new.txt\n",
        "git add new.txt\n",
        "git commit -m \"Add new.txt in feature1 branch\"\n",
        "\n",
        "# 6\n",
        "git checkout develop\n",
        "git stash pop\n",
        "git add develop.txt\n",
        "git commit -m \"Add develop.txt in develop branch\"\n"
      ],
      "metadata": {
        "id": "HQrGJoortd0_"
      },
      "execution_count": null,
      "outputs": []
    },
    {
      "cell_type": "markdown",
      "source": [
        "3- Tasks to Be Performed:\n",
        "\n",
        "\n",
        "1. Create a Git working directory, with the following branches:\n",
        "    \n",
        "    Develop\n",
        "\n",
        "    F1\n",
        "\n",
        "    f2\n",
        "\n",
        "2. In the master branch, commit main.txt file\n",
        "\n",
        "3. Put develop.txt in develop branch, f1.txt and f2.txt in f1 and f2 respectively\n",
        "\n",
        "4. Push all these branches to GitHub\n",
        "\n",
        "5. On local delete f2 branch\n",
        "\n",
        "6. Delete the same branch on GitHub as well"
      ],
      "metadata": {
        "id": "1SiL0jVDuBIv"
      }
    },
    {
      "cell_type": "code",
      "source": [
        "# 1\n",
        "mkdir multi_branch_project\n",
        "cd multi_branch_project\n",
        "git branch Develop\n",
        "git branch F1\n",
        "git branch f2\n",
        "\n",
        "# 2\n",
        "git init\n",
        "touch main.txt\n",
        "git add main.txt\n",
        "git commit -m \"Add main.txt in master branch\"\n",
        "\n",
        "# 3\n",
        "# Develop branch\n",
        "git checkout Develop\n",
        "touch develop.txt\n",
        "git add develop.txt\n",
        "git commit -m \"Add develop.txt\"\n",
        "\n",
        "# F1 branch\n",
        "git checkout F1\n",
        "touch f1.txt\n",
        "git add f1.txt\n",
        "git commit -m \"Add f1.txt\"\n",
        "\n",
        "# f2 branch\n",
        "git checkout f2\n",
        "touch f2.txt\n",
        "git add f2.txt\n",
        "git commit -m \"Add f2.txt\"\n",
        "\n",
        "# 4\n",
        "git remote add origin https://github.com/atrija968/git_test.git\n",
        "git push -u origin master\n",
        "git push origin Develop\n",
        "git push origin F1\n",
        "git push origin f2\n",
        "\n",
        "# 5\n",
        "git branch -d f2\n",
        "\n",
        "# 6\n",
        "git push origin --delete f2"
      ],
      "metadata": {
        "id": "62oMUX_euRdW"
      },
      "execution_count": null,
      "outputs": []
    },
    {
      "cell_type": "markdown",
      "source": [
        "4- Tasks to Be Performed:\n",
        "\n",
        "1. Put master.txt on master branch, stage and commit\n",
        "\n",
        "2. Create 3 branches: public 1, public 2 and private\n",
        "\n",
        "3. Put public1.txt on public 1 branch, stage and commit\n",
        "\n",
        "4. Merge public 1 on master branch\n",
        "\n",
        "5. Merge public 2 on master branch\n",
        "\n",
        "6. Edit master.txt on private branch, stage and commit\n",
        "\n",
        "7. Now update branch public 1 and public 2 with new master code in private\n",
        "\n",
        "8. Also update new master code on master\n",
        "\n",
        "9. Finally update all the code on the private branch"
      ],
      "metadata": {
        "id": "oenHvv0YvXdF"
      }
    },
    {
      "cell_type": "code",
      "source": [
        "# 1\n",
        "git checkout master\n",
        "touch master.txt\n",
        "git add master.txt\n",
        "git commit -m \"Add master.txt\"\n",
        "\n",
        "# 2\n",
        "git branch \"public 1\"\n",
        "git branch \"public 2\"\n",
        "git branch private\n",
        "\n",
        "# 3\n",
        "git checkout \"public 1\"\n",
        "touch public1.txt\n",
        "git add public1.txt\n",
        "git commit -m \"Add public1.txt\"\n",
        "\n",
        "# 4-5\n",
        "git checkout master\n",
        "git merge \"public 1\"\n",
        "git merge \"public 2\"\n",
        "\n",
        "# 6\n",
        "git checkout private\n",
        "echo \"Update in private\" >> master.txt\n",
        "git add master.txt\n",
        "git commit -m \"Updated master.txt in private\"\n",
        "\n",
        "# 7-9\n",
        "# Merge private into master\n",
        "git checkout master\n",
        "git merge private\n",
        "\n",
        "# Merge updated master into public branches\n",
        "git checkout \"public 1\"\n",
        "git merge master\n",
        "\n",
        "git checkout \"public 2\"\n",
        "git merge master\n",
        "\n",
        "# Update private with latest master\n",
        "git checkout private\n",
        "git merge master\n"
      ],
      "metadata": {
        "id": "T2MKJTXlvcYm"
      },
      "execution_count": null,
      "outputs": []
    },
    {
      "cell_type": "markdown",
      "source": [
        "5- Tasks to Be Performed:\n",
        "\n",
        "1. Create a Git Flow workflow architecture on Git\n",
        "\n",
        "2. Create all the required branches\n",
        "\n",
        "3. starting from e feature branch, push the branch to the master, following the architecture\n",
        "\n",
        "4. Push an urgent.txt on master using hotfix"
      ],
      "metadata": {
        "id": "uh7MS4R2vywu"
      }
    },
    {
      "cell_type": "code",
      "source": [
        "# 1\n",
        "git flow init\n",
        "\n",
        "# 2\n",
        "git checkout -b develop\n",
        "git checkout -b feature/my-feature\n",
        "\n",
        "# 3\n",
        "git checkout develop\n",
        "git merge feature/my-feature\n",
        "\n",
        "git checkout master\n",
        "git merge develop\n",
        "git push origin master\n",
        "\n",
        "# 4\n",
        "git checkout master\n",
        "touch urgent.txt\n",
        "git add urgent.txt\n",
        "git commit -m \"Apply hotfix with urgent.txt\"\n",
        "git push origin master\n"
      ],
      "metadata": {
        "id": "7TYB13BXv4J1"
      },
      "execution_count": null,
      "outputs": []
    }
  ]
}